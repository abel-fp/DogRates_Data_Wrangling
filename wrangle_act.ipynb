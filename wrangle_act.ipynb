{
 "cells": [
  {
   "cell_type": "code",
   "execution_count": null,
   "metadata": {},
   "outputs": [],
   "source": [
    "import pandas as pd\n",
    "from numpy import nan\n",
    "# twitter archive file (downloaded manually)\n",
    "twi_arch = pd.read_csv(\"twitter-archive-enhanced.csv\")"
   ]
  },
  {
   "cell_type": "markdown",
   "metadata": {},
   "source": [
    "# Gathering Data"
   ]
  },
  {
   "cell_type": "code",
   "execution_count": null,
   "metadata": {},
   "outputs": [],
   "source": [
    "# download the image_prediction.tsv file programatically\n",
    "import requests\n",
    "\n",
    "url = \"https://d17h27t6h515a5.cloudfront.net/topher/2017/August/599fd2ad_image-predictions/image-predictions.tsv\"\n",
    "response = requests.get(url)\n",
    "with open(\"image_prediction.tsv\", \"wb\") as file:\n",
    "    file.write(response.content)"
   ]
  },
  {
   "cell_type": "code",
   "execution_count": null,
   "metadata": {},
   "outputs": [],
   "source": [
    "# load api for twitter\n",
    "import tweepy\n",
    "\n",
    "consumer_key = ''\n",
    "consumer_secret = ''\n",
    "access_token = ''\n",
    "access_secret = ''\n",
    "\n",
    "auth = tweepy.OAuthHandler(consumer_key, consumer_secret)\n",
    "auth.set_access_token(access_token, access_secret)\n",
    "api = tweepy.API(auth, wait_on_rate_limit=True, wait_on_rate_limit_notify=True)"
   ]
  },
  {
   "cell_type": "code",
   "execution_count": null,
   "metadata": {
    "scrolled": true
   },
   "outputs": [],
   "source": [
    "# creat the tweet_json.txt file using tweepy\n",
    "import json\n",
    "import time\n",
    "\n",
    "count = 0\n",
    "not_found = []\n",
    "with open('tweet_json.txt', 'w') as outfile:\n",
    "    for t_id in twi_arch.tweet_id:\n",
    "        start = time.time()\n",
    "        try:\n",
    "            tweet = api.get_status(t_id, tweet_mode='extended')\n",
    "        except:\n",
    "            print(\"No status found with that ID # {}\\n\".format(t_id))\n",
    "            not_found.append(t_id)\n",
    "            continue\n",
    "        json.dump(tweet._json, outfile)\n",
    "        outfile.write('\\n')\n",
    "        end = time.time()\n",
    "        lapse = end - start\n",
    "        count += 1\n",
    "        print(\"{} done! in {:.2f} seconds\".format(t_id, lapse))\n",
    "        print(\"{} tweets collected.\\n\".format(count))\n",
    "\n",
    "print(\"The following twitter id's were not found:\", not_found, sep=\"\\n\")"
   ]
  },
  {
   "cell_type": "code",
   "execution_count": null,
   "metadata": {},
   "outputs": [],
   "source": [
    "# in case the above cell was not run\n",
    "not_found = [888202515573088257, 873697596434513921, 869988702071779329, \n",
    "             866816280283807744, 861769973181624320, 845459076796616705, \n",
    "             842892208864923648, 837012587749474308, 827228250799742977, \n",
    "             802247111496568832, 775096608509886464]"
   ]
  },
  {
   "cell_type": "markdown",
   "metadata": {},
   "source": [
    "# Assessing Data"
   ]
  },
  {
   "cell_type": "code",
   "execution_count": null,
   "metadata": {},
   "outputs": [],
   "source": [
    "# load downloaded files into pandas dataframes\n",
    "predict = pd.read_csv(\"image_prediction.tsv\", sep='\\t')\n",
    "tweet_data = pd.read_json('tweet_json.txt', lines=True)\n",
    "# get only id, retweet_count, favorite_count\n",
    "tweet_data = tweet_data[['id', 'retweet_count', 'favorite_count']]"
   ]
  },
  {
   "cell_type": "markdown",
   "metadata": {},
   "source": [
    "#### Let's take a look at our data"
   ]
  },
  {
   "cell_type": "code",
   "execution_count": null,
   "metadata": {},
   "outputs": [],
   "source": [
    "twi_arch.info()"
   ]
  },
  {
   "cell_type": "code",
   "execution_count": null,
   "metadata": {},
   "outputs": [],
   "source": [
    "twi_arch.describe()"
   ]
  },
  {
   "cell_type": "code",
   "execution_count": null,
   "metadata": {},
   "outputs": [],
   "source": [
    "twi_arch.timestamp.value_counts()[0:10] # type of data time"
   ]
  },
  {
   "cell_type": "code",
   "execution_count": null,
   "metadata": {},
   "outputs": [],
   "source": [
    "twi_arch.source.value_counts() # source has only four values; categorical variables"
   ]
  },
  {
   "cell_type": "code",
   "execution_count": null,
   "metadata": {},
   "outputs": [],
   "source": [
    "twi_arch[twi_arch['in_reply_to_status_id'].notnull()] # this means these are replies\n",
    "# they might still be good"
   ]
  },
  {
   "cell_type": "code",
   "execution_count": null,
   "metadata": {},
   "outputs": [],
   "source": [
    "twi_arch[twi_arch['retweeted_status_id'].notnull()] # these are retweets;\n",
    "# we don't want retweets, so we will not include them in our master table"
   ]
  },
  {
   "cell_type": "code",
   "execution_count": null,
   "metadata": {},
   "outputs": [],
   "source": [
    "print(sum(twi_arch.expanded_urls.isnull()) )\n",
    "twi_arch[twi_arch['expanded_urls'].isnull()] # missing expanded_urls\n",
    "# could these be tweets with no pictures?..."
   ]
  },
  {
   "cell_type": "code",
   "execution_count": null,
   "metadata": {},
   "outputs": [],
   "source": [
    "twi_arch.text[64] # these are mostly replies"
   ]
  },
  {
   "cell_type": "code",
   "execution_count": null,
   "metadata": {},
   "outputs": [],
   "source": [
    "# check if all missing expanded_urls are in replies\n",
    "miss_url_id = list(twi_arch[twi_arch['expanded_urls'].isnull()].tweet_id)\n",
    "replies_id = list(twi_arch[twi_arch['in_reply_to_status_id'].notnull()].tweet_id)\n",
    "\n",
    "for iden_num in miss_url_id:\n",
    "    if iden_num not in replies_id:\n",
    "        print(iden_num)\n",
    "    else:\n",
    "        pass"
   ]
  },
  {
   "cell_type": "code",
   "execution_count": null,
   "metadata": {},
   "outputs": [],
   "source": [
    "print(replies_id[0:10])\n",
    "print(miss_url_id[0:10])\n",
    "twi_arch[twi_arch.name == \"Pipsy\"]"
   ]
  },
  {
   "cell_type": "code",
   "execution_count": null,
   "metadata": {},
   "outputs": [],
   "source": [
    "# the four id's above in expanded_urls do not have a picture.\n",
    "# all rows with no expanded_urls do not have picture"
   ]
  },
  {
   "cell_type": "code",
   "execution_count": null,
   "metadata": {},
   "outputs": [],
   "source": [
    "twi_arch.puppo.value_counts() # need dog stage variable not four columns"
   ]
  },
  {
   "cell_type": "code",
   "execution_count": null,
   "metadata": {},
   "outputs": [],
   "source": [
    "json_id = list(tweet_data.id)\n",
    "twi_id = list(twi_arch.tweet_id)\n",
    "pre_id = list(predict.tweet_id)\n",
    "\n",
    "for num in pre_id:\n",
    "    assert num in twi_id\n",
    "# all twitter id's in prediction table are in twi_arch table\n",
    "c = list(set(twi_id)^set(pre_id)) # list of id not in predicted table\n",
    "\n",
    "print(len(c))"
   ]
  },
  {
   "cell_type": "code",
   "execution_count": null,
   "metadata": {
    "scrolled": true
   },
   "outputs": [],
   "source": [
    "twi_arch[twi_arch.tweet_id.duplicated()] #no duplicated tweets"
   ]
  },
  {
   "cell_type": "code",
   "execution_count": null,
   "metadata": {},
   "outputs": [],
   "source": [
    "twi_arch.name.str.extractall(\"(^[a-z]+$)\")  # names that are not capitalized are not actualy names"
   ]
  },
  {
   "cell_type": "code",
   "execution_count": null,
   "metadata": {},
   "outputs": [],
   "source": [
    "twi_arch.loc[649] # actual name is 'Forrest' "
   ]
  },
  {
   "cell_type": "code",
   "execution_count": null,
   "metadata": {
    "scrolled": true
   },
   "outputs": [],
   "source": [
    "twi_arch.expanded_urls[801] # same url multiple times (number of pictures)\n",
    "twi_arch.expanded_urls[721]"
   ]
  },
  {
   "cell_type": "code",
   "execution_count": null,
   "metadata": {},
   "outputs": [],
   "source": [
    "twi_arch.rating_denominator.value_counts()"
   ]
  },
  {
   "cell_type": "code",
   "execution_count": null,
   "metadata": {},
   "outputs": [],
   "source": [
    "twi_arch.name.value_counts()"
   ]
  },
  {
   "cell_type": "code",
   "execution_count": null,
   "metadata": {},
   "outputs": [],
   "source": [
    "# after having submited my project once, I was informed of a very important issue\n",
    "twi_arch.text[1689] # source text has a denominator of 9.5\n",
    "# and for rating_numerator it has a 5, I need to fix this"
   ]
  },
  {
   "cell_type": "code",
   "execution_count": null,
   "metadata": {},
   "outputs": [],
   "source": [
    "predict.info()"
   ]
  },
  {
   "cell_type": "code",
   "execution_count": null,
   "metadata": {},
   "outputs": [],
   "source": [
    "predict.sample(5)"
   ]
  },
  {
   "cell_type": "code",
   "execution_count": null,
   "metadata": {},
   "outputs": [],
   "source": [
    "predict.p1_dog.value_counts()"
   ]
  },
  {
   "cell_type": "code",
   "execution_count": null,
   "metadata": {},
   "outputs": [],
   "source": [
    "tweet_data.info()"
   ]
  },
  {
   "cell_type": "markdown",
   "metadata": {},
   "source": [
    "#### Quality (8 issues or more)\n",
    "##### `twi_arch` table\n",
    "- retweeted_status_id, retweeted_status_user_id, and retweeted_status_timestamp is information of original tweets.\n",
    "- expanded_urls contains urls for number of photos, videos and urls in text of tweet\n",
    "- there are 59 missing urls in expanded_urls\n",
    "- in_reply_status_id is information of tweets that are replies, but they still score dogs and some have pictures.\n",
    "- 'source' is in HTML form, only need source name, no urls.\n",
    "- Names are sometimes not real name but other lower-case words\n",
    "    - (index: 649) dog with tweet_id: 792913359805018113 is named 'Forrest' not 'a'\n",
    "- erronous data types (e.g. tweet_id, reply info, retweet info, timestamps, rating_numerator and denominator, source)\n",
    "- text rating and rating_numerator and rating_denominator might not match (after getting rid of retweets and tweets with no pictures)\n",
    "- tweet with rating_denominator of 7 is not a tweet of an actual rating\n",
    "- two outliers with rating numerator of 420 and 1776\n",
    "\n",
    "##### `predict` table\n",
    "- for p1, p2, and p3 the breed of the dog has _ instead of white space between words; all should be lower case for consistency\n",
    "- tweet_id not integer\n",
    "\n",
    "##### `tweet_data` table\n",
    "- 'id' variable should be labaled the same as for `twi_arch` table, 'tweet_id'\n",
    "- tweet_id not integer\n",
    "- 11 tweets not found"
   ]
  },
  {
   "cell_type": "markdown",
   "metadata": {},
   "source": [
    "#### Tidiness (2 issues or more)\n",
    "- drop uneccessary columns in `twi_arch` (retweets and replies)\n",
    "- one variable (dog_stage) in four columns in `twi_arch` table (doggo, floofer, pupper, and puppo)\n",
    "- there is no score_ratio value\n",
    "- number of images should be in the `predict` table\n",
    "- number of likes and retweet count should be in the `twi_arch` table \n",
    "- merge the tables of `twi_clean` and `tweet_clean` to get retweet count and favorite count"
   ]
  },
  {
   "cell_type": "markdown",
   "metadata": {},
   "source": [
    "# Cleaning Data"
   ]
  },
  {
   "cell_type": "code",
   "execution_count": null,
   "metadata": {},
   "outputs": [],
   "source": [
    "# make copies of the tables\n",
    "twi_clean = twi_arch.copy()\n",
    "pre_clean = predict.copy()\n",
    "tweet_clean = tweet_data.copy()"
   ]
  },
  {
   "cell_type": "markdown",
   "metadata": {},
   "source": [
    "#### `twi_arch`: 78 retweets present in this table"
   ]
  },
  {
   "cell_type": "markdown",
   "metadata": {},
   "source": [
    "##### Define\n",
    "Delete these tweets. They are not needed since we want original tweets"
   ]
  },
  {
   "cell_type": "markdown",
   "metadata": {},
   "source": [
    "##### Code"
   ]
  },
  {
   "cell_type": "code",
   "execution_count": null,
   "metadata": {},
   "outputs": [],
   "source": [
    "twi_clean = twi_clean[twi_clean.retweeted_status_id.isnull()]"
   ]
  },
  {
   "cell_type": "markdown",
   "metadata": {},
   "source": [
    "##### Test"
   ]
  },
  {
   "cell_type": "code",
   "execution_count": null,
   "metadata": {},
   "outputs": [],
   "source": [
    "# should be empty\n",
    "twi_clean[twi_clean.retweeted_status_id.notnull()]"
   ]
  },
  {
   "cell_type": "code",
   "execution_count": null,
   "metadata": {},
   "outputs": [],
   "source": [
    "twi_clean.info()"
   ]
  },
  {
   "cell_type": "markdown",
   "metadata": {},
   "source": [
    "#### `twi_arch`: expanded_urls contains urls for number of photos, videos and urls in text of tweet"
   ]
  },
  {
   "cell_type": "markdown",
   "metadata": {},
   "source": [
    "##### Define\n",
    "Create number of photos in each tweet off expanded_urls"
   ]
  },
  {
   "cell_type": "markdown",
   "metadata": {},
   "source": [
    "##### Code"
   ]
  },
  {
   "cell_type": "code",
   "execution_count": null,
   "metadata": {},
   "outputs": [],
   "source": [
    "# ensures they come from dog_rates\n",
    "\n",
    "def photo_count(table):\n",
    "    i = str(table['tweet_id'])\n",
    "    url = str(table['expanded_urls'])\n",
    "    s = \"https://twitter.com/dog_rates/status/\" + i + \"/photo/1\"\n",
    "    return url.count(s)\n",
    "\n",
    "# in case I wanted number of images, but I don't\n",
    "# def video_count(table):\n",
    "#     i = str(table['tweet_id'])\n",
    "#     url = str(table['expanded_urls'])\n",
    "#     s = \"https://twitter.com/dog_rates/status/\" + i + \"/video/1\"\n",
    "#     return url.count(s)\n",
    "# twi_clean[\"num_of_vid\"] = twi_clean.apply(video_count, axis=1)\n",
    "\n",
    "twi_clean[\"num_of_img\"] = twi_clean.apply(photo_count, axis=1)"
   ]
  },
  {
   "cell_type": "markdown",
   "metadata": {},
   "source": [
    "##### Test"
   ]
  },
  {
   "cell_type": "code",
   "execution_count": null,
   "metadata": {},
   "outputs": [],
   "source": [
    "twi_clean.num_of_img.value_counts()"
   ]
  },
  {
   "cell_type": "markdown",
   "metadata": {},
   "source": [
    "#### `twi_arch`: various tweets have zero images"
   ]
  },
  {
   "cell_type": "markdown",
   "metadata": {},
   "source": [
    "##### Define\n",
    "Delete these tweets since we need tweets with images"
   ]
  },
  {
   "cell_type": "markdown",
   "metadata": {},
   "source": [
    "##### Code"
   ]
  },
  {
   "cell_type": "code",
   "execution_count": null,
   "metadata": {},
   "outputs": [],
   "source": [
    "twi_clean = twi_clean[twi_clean.num_of_img != 0]"
   ]
  },
  {
   "cell_type": "markdown",
   "metadata": {},
   "source": [
    "##### Test"
   ]
  },
  {
   "cell_type": "code",
   "execution_count": null,
   "metadata": {},
   "outputs": [],
   "source": [
    "twi_clean.num_of_img.value_counts()"
   ]
  },
  {
   "cell_type": "markdown",
   "metadata": {},
   "source": [
    "#### `twi_arch`: there are 59 missing urls in expanded_urls; all rows with no expanded_urls do not have picture"
   ]
  },
  {
   "cell_type": "markdown",
   "metadata": {},
   "source": [
    "##### Define\n",
    "We only want tweets with pictures, so delete these tweets (rows)"
   ]
  },
  {
   "cell_type": "markdown",
   "metadata": {},
   "source": [
    "##### Code"
   ]
  },
  {
   "cell_type": "code",
   "execution_count": null,
   "metadata": {},
   "outputs": [],
   "source": [
    "twi_clean[twi_clean.expanded_urls.isnull()] # there are no missing expanded_urls anymore"
   ]
  },
  {
   "cell_type": "markdown",
   "metadata": {},
   "source": [
    "##### Test"
   ]
  },
  {
   "cell_type": "code",
   "execution_count": null,
   "metadata": {},
   "outputs": [],
   "source": [
    "twi_clean.info()"
   ]
  },
  {
   "cell_type": "markdown",
   "metadata": {},
   "source": [
    "#### `twi_arch`: in_reply_status_id is information of tweets that are replies, but they still score dogs and some have pictures"
   ]
  },
  {
   "cell_type": "markdown",
   "metadata": {},
   "source": [
    "##### Define \n",
    "Check that all these have a score and a picture."
   ]
  },
  {
   "cell_type": "markdown",
   "metadata": {},
   "source": [
    "##### Code"
   ]
  },
  {
   "cell_type": "code",
   "execution_count": null,
   "metadata": {},
   "outputs": [],
   "source": [
    "twi_clean[twi_clean.in_reply_to_status_id.notnull()]\n",
    "\n",
    "# all replies have pictures and a score\n",
    "# they are good. I simply looked at the \n",
    "# data below"
   ]
  },
  {
   "cell_type": "markdown",
   "metadata": {},
   "source": [
    "##### Test"
   ]
  },
  {
   "cell_type": "code",
   "execution_count": null,
   "metadata": {},
   "outputs": [],
   "source": [
    "# replies are acceptable"
   ]
  },
  {
   "cell_type": "markdown",
   "metadata": {},
   "source": [
    "##### `twi_arch`: 'source' is in HTML form, only need source name, no urls."
   ]
  },
  {
   "cell_type": "markdown",
   "metadata": {},
   "source": [
    "##### Define\n",
    "Use regular expression to extract the source name, not the urls"
   ]
  },
  {
   "cell_type": "markdown",
   "metadata": {},
   "source": [
    "##### Code"
   ]
  },
  {
   "cell_type": "code",
   "execution_count": null,
   "metadata": {},
   "outputs": [],
   "source": [
    "twi_clean['source'] = twi_clean.source.str.extract(\">(.*)<\", expand=True)"
   ]
  },
  {
   "cell_type": "markdown",
   "metadata": {},
   "source": [
    "##### Test"
   ]
  },
  {
   "cell_type": "code",
   "execution_count": null,
   "metadata": {},
   "outputs": [],
   "source": [
    "twi_clean.source.value_counts()"
   ]
  },
  {
   "cell_type": "markdown",
   "metadata": {},
   "source": [
    "#### `twi_arch`: Names are sometimes not real name but other lower-case words\n",
    "- (index: 649) dog with tweet_id: 792913359805018113 is named 'Forrest' not 'a'"
   ]
  },
  {
   "cell_type": "markdown",
   "metadata": {},
   "source": [
    "##### Define\n",
    "Replace each occurance of a wrong name for Nan, since these tweets most likely did not include a name. There is an occurance in index 649 where the dog's name is 'Forrest'"
   ]
  },
  {
   "cell_type": "markdown",
   "metadata": {},
   "source": [
    "##### Code"
   ]
  },
  {
   "cell_type": "code",
   "execution_count": null,
   "metadata": {},
   "outputs": [],
   "source": [
    "x = twi_clean.name.str.extractall(\"(^[a-z]+$)\")\n",
    "x.xs(0, level='match')\n",
    "all_wrong_names = x[0].tolist()\n",
    "wrong_names = list(set(all_wrong_names)) # get only the unique values\n",
    "wrong_names"
   ]
  },
  {
   "cell_type": "code",
   "execution_count": null,
   "metadata": {},
   "outputs": [],
   "source": [
    "def a_to_none(s):\n",
    "    if s in wrong_names:\n",
    "        return nan\n",
    "    else:\n",
    "        return s\n",
    "    \n",
    "twi_clean['name'] = twi_clean.name.map(a_to_none)\n",
    "twi_clean.loc[649, 'name'] = 'Forrest'  # 'Forrest' with double 'r'"
   ]
  },
  {
   "cell_type": "markdown",
   "metadata": {},
   "source": [
    "##### Test"
   ]
  },
  {
   "cell_type": "code",
   "execution_count": null,
   "metadata": {},
   "outputs": [],
   "source": [
    "twi_clean.name.str.extractall(\"(^[a-z]+$)\")"
   ]
  },
  {
   "cell_type": "code",
   "execution_count": null,
   "metadata": {},
   "outputs": [],
   "source": [
    "twi_clean[twi_clean.name == 'Forrest']"
   ]
  },
  {
   "cell_type": "markdown",
   "metadata": {},
   "source": [
    "#### `twi_arch`: erronous data types (e.g. tweet_id, reply info, retweet info, timestamps, rating_numerator and denominator, source)"
   ]
  },
  {
   "cell_type": "markdown",
   "metadata": {},
   "source": [
    "##### Define\n",
    "Change variables to appropitate data types"
   ]
  },
  {
   "cell_type": "markdown",
   "metadata": {},
   "source": [
    "##### Code"
   ]
  },
  {
   "cell_type": "code",
   "execution_count": null,
   "metadata": {},
   "outputs": [],
   "source": [
    "# To category\n",
    "twi_clean.source = twi_clean.source.astype('category')\n",
    "\n",
    "# To datetime\n",
    "twi_clean.timestamp = pd.to_datetime(twi_clean.timestamp)\n",
    "twi_clean.retweeted_status_timestamp = pd.to_datetime(twi_clean.retweeted_status_timestamp)  # even though I am droping this column\n",
    "\n",
    "# To string\n",
    "twi_clean.tweet_id = twi_clean.tweet_id.astype(str)\n",
    "twi_clean.in_reply_to_status_id = twi_clean.in_reply_to_status_id.astype(str) # even though I am droping this column\n",
    "twi_clean.in_reply_to_user_id = twi_clean.in_reply_to_user_id.astype(str) # even though I am droping this column\n",
    "twi_clean.retweeted_status_id = twi_clean.retweeted_status_id.astype(str) # even though I am droping this column\n",
    "twi_clean.retweeted_status_user_id = twi_clean.retweeted_status_user_id.astype(str)  # even though I am droping this column\n",
    "\n",
    "# To float since I am going to get correct numerators which can be floats\n",
    "twi_clean.rating_numerator = twi_clean.rating_numerator.astype(float)\n",
    "twi_clean.rating_denominator = twi_clean.rating_denominator.astype(float)"
   ]
  },
  {
   "cell_type": "markdown",
   "metadata": {},
   "source": [
    "##### Test"
   ]
  },
  {
   "cell_type": "code",
   "execution_count": null,
   "metadata": {},
   "outputs": [],
   "source": [
    "twi_clean.info()"
   ]
  },
  {
   "cell_type": "markdown",
   "metadata": {},
   "source": [
    "#### `twi_arch`: source text rating and rating_numerator and rating_denominator might not match"
   ]
  },
  {
   "cell_type": "markdown",
   "metadata": {},
   "source": [
    "##### Define\n",
    "Use regex to get the correct numerator and denominators from text"
   ]
  },
  {
   "cell_type": "markdown",
   "metadata": {},
   "source": [
    "##### Code"
   ]
  },
  {
   "cell_type": "code",
   "execution_count": null,
   "metadata": {},
   "outputs": [],
   "source": [
    "c = twi_clean.text.str.extractall(\"([0-9]+[.][0-9]+\\/\\d+)\")\n",
    "d = c.xs(0, level='match')\n",
    "d.loc[:,'rating_numerator'], d.loc[:,'rating_denominator'] = d[0].str.split('/', 1).str\n",
    "d.rating_numerator = d.rating_numerator.astype(float)\n",
    "d.rating_denominator = d.rating_denominator.astype(float)\n",
    "d = d.drop(0, axis=1)\n",
    "d"
   ]
  },
  {
   "cell_type": "markdown",
   "metadata": {},
   "source": [
    "Need to change the above ratings"
   ]
  },
  {
   "cell_type": "code",
   "execution_count": null,
   "metadata": {},
   "outputs": [],
   "source": [
    "twi_clean.update(d)\n",
    "index_rating_decimal = [45, 695, 763, 1712]  # updated ratings with decimal places"
   ]
  },
  {
   "cell_type": "markdown",
   "metadata": {},
   "source": [
    "These tweets have at least two ratings or similar to a rating.\n",
    "\n",
    "index: first,second or average (XXX indicates that I won't need to change them)\n",
    "- 766 second\n",
    "- 1007 average\n",
    "- 1068 second\n",
    "- 1165 second\n",
    "- 1202 second\n",
    "- 1222 average\n",
    "- 1359 first XXX\n",
    "- 1465 first XXX\n",
    "- 1508 average\n",
    "- 1525 first XXX\n",
    "- 1538 average\n",
    "- 1662 second\n",
    "- 1795 average\n",
    "- 1832 first XXX\n",
    "- 1897 first XXX\n",
    "- 1901 second\n",
    "- 1970 first XXX\n",
    "- 2010 first XXX\n",
    "- 2064 first XXX\n",
    "- 2113 average\n",
    "- 2177 average\n",
    "- 2216 first XXX\n",
    "- 2263 average\n",
    "- 2272 first XXX\n",
    "- 2306 average but it's both 10/10 XXX\n",
    "- 2335 second"
   ]
  },
  {
   "cell_type": "code",
   "execution_count": null,
   "metadata": {},
   "outputs": [],
   "source": [
    "a = twi_clean.text.str.extractall(\"(\\d+\\/\\d+)\")\n",
    "f = a.xs(1, level='match')\n",
    "f.loc[:,'rating_numerator'], f.loc[:,'rating_denominator'] = f[0].str.split('/', 1).str\n",
    "f.rating_numerator = f.rating_numerator.astype(float)\n",
    "f.rating_denominator = f.rating_denominator.astype(float)\n",
    "f = f.drop(0, axis=1)\n",
    "\n",
    "g = a.xs(0, level='match')\n",
    "g.loc[:,'rating_numerator'], g.loc[:,'rating_denominator'] = g[0].str.split('/', 1).str\n",
    "g.rating_numerator = g.rating_numerator.astype(float)\n",
    "g.rating_denominator = g.rating_denominator.astype(float)\n",
    "g = g.drop(0, axis=1)"
   ]
  },
  {
   "cell_type": "code",
   "execution_count": null,
   "metadata": {},
   "outputs": [],
   "source": [
    "to_drop = [1359, 1465, 1525, 1832, 1897, 1970, 2010, 2064, 2216, 2272, 2306] # these will stay as they are in twi_clean\n",
    "f = f.drop(to_drop) "
   ]
  },
  {
   "cell_type": "code",
   "execution_count": null,
   "metadata": {},
   "outputs": [],
   "source": [
    "average_list = [1007, 1222, 1508, 1538, 1795, 2113, 2177, 2263]\n",
    "for index in average_list:  # average values since there were two dogs and two scores\n",
    "    n1 = f.loc[index, 'rating_numerator']\n",
    "    n2 = g.loc[index, 'rating_numerator']\n",
    "    f.loc[index, 'rating_numerator'] = (n1 + n2) / 2"
   ]
  },
  {
   "cell_type": "code",
   "execution_count": null,
   "metadata": {},
   "outputs": [],
   "source": [
    "twi_clean.update(f)\n",
    "# updated ratings that had two ratings (average or just the second one was correct)"
   ]
  },
  {
   "cell_type": "markdown",
   "metadata": {},
   "source": [
    "##### Test"
   ]
  },
  {
   "cell_type": "code",
   "execution_count": null,
   "metadata": {},
   "outputs": [],
   "source": [
    "twi_clean.loc[average_list]"
   ]
  },
  {
   "cell_type": "code",
   "execution_count": null,
   "metadata": {},
   "outputs": [],
   "source": [
    "twi_clean.loc[index_rating_decimal]"
   ]
  },
  {
   "cell_type": "markdown",
   "metadata": {},
   "source": [
    "#### `twi_arch`: tweet with rating_denominator of 7 is not a tweet of an actual rating"
   ]
  },
  {
   "cell_type": "markdown",
   "metadata": {},
   "source": [
    "##### Define\n",
    "Delete this tweet from the data"
   ]
  },
  {
   "cell_type": "markdown",
   "metadata": {},
   "source": [
    "##### Code"
   ]
  },
  {
   "cell_type": "code",
   "execution_count": null,
   "metadata": {},
   "outputs": [],
   "source": [
    "not_rating = twi_clean.index[twi_clean.rating_denominator == 7.0].tolist() # not a rating, need to delete tweet\n",
    "twi_clean = twi_clean.drop(not_rating)  # it's a dog that's sick and needs help raising money (I think...)"
   ]
  },
  {
   "cell_type": "markdown",
   "metadata": {},
   "source": [
    "##### Test"
   ]
  },
  {
   "cell_type": "code",
   "execution_count": null,
   "metadata": {},
   "outputs": [],
   "source": [
    "twi_clean[twi_clean.rating_denominator == 7.0]"
   ]
  },
  {
   "cell_type": "markdown",
   "metadata": {},
   "source": [
    "#### `twi_arch`: two outliers with rating numerator of 420 and 1776"
   ]
  },
  {
   "cell_type": "markdown",
   "metadata": {},
   "source": [
    "##### Define\n",
    "Remove these two outliers"
   ]
  },
  {
   "cell_type": "markdown",
   "metadata": {},
   "source": [
    "##### Code"
   ]
  },
  {
   "cell_type": "code",
   "execution_count": null,
   "metadata": {},
   "outputs": [],
   "source": [
    "not_rating = twi_clean.index[twi_clean.rating_numerator == 420.0].tolist()\n",
    "twi_clean = twi_clean.drop(not_rating)  # Snoop Dog...\n",
    "\n",
    "not_rating = twi_clean.index[twi_clean.rating_numerator == 1776.0].tolist()  \n",
    "twi_clean = twi_clean.drop(not_rating)  # Dog celebrating July 4th"
   ]
  },
  {
   "cell_type": "markdown",
   "metadata": {},
   "source": [
    "##### Test"
   ]
  },
  {
   "cell_type": "code",
   "execution_count": null,
   "metadata": {},
   "outputs": [],
   "source": [
    "twi_clean[twi_clean.rating_numerator == 420.0]"
   ]
  },
  {
   "cell_type": "code",
   "execution_count": null,
   "metadata": {},
   "outputs": [],
   "source": [
    "twi_clean[twi_clean.rating_numerator == 1776.0]"
   ]
  },
  {
   "cell_type": "markdown",
   "metadata": {},
   "source": [
    "#### `predict`: for p1, p2, and p3 the breed of the dog has _ instead of white space between words; all should be lower case for consistency"
   ]
  },
  {
   "cell_type": "markdown",
   "metadata": {},
   "source": [
    "##### Define\n",
    "raplce _ for a white space and lower case all leters"
   ]
  },
  {
   "cell_type": "markdown",
   "metadata": {},
   "source": [
    "##### Code"
   ]
  },
  {
   "cell_type": "code",
   "execution_count": null,
   "metadata": {},
   "outputs": [],
   "source": [
    "pre_clean['p1'] = pre_clean.p1.str.replace('_', ' ').str.lower()\n",
    "pre_clean['p2'] = pre_clean.p2.str.replace('_', ' ').str.lower()\n",
    "pre_clean['p3'] = pre_clean.p3.str.replace('_', ' ').str.lower()"
   ]
  },
  {
   "cell_type": "markdown",
   "metadata": {},
   "source": [
    "##### Test"
   ]
  },
  {
   "cell_type": "code",
   "execution_count": null,
   "metadata": {},
   "outputs": [],
   "source": [
    "pre_clean.sample(10)"
   ]
  },
  {
   "cell_type": "markdown",
   "metadata": {},
   "source": [
    "#### `predict`: tweet_id is not integer type"
   ]
  },
  {
   "cell_type": "markdown",
   "metadata": {},
   "source": [
    "##### Define\n",
    "Change tweet_id's data type to str "
   ]
  },
  {
   "cell_type": "markdown",
   "metadata": {},
   "source": [
    "##### Code"
   ]
  },
  {
   "cell_type": "code",
   "execution_count": null,
   "metadata": {},
   "outputs": [],
   "source": [
    "pre_clean.tweet_id = pre_clean.tweet_id.astype(str)"
   ]
  },
  {
   "cell_type": "markdown",
   "metadata": {},
   "source": [
    "##### Test"
   ]
  },
  {
   "cell_type": "code",
   "execution_count": null,
   "metadata": {},
   "outputs": [],
   "source": [
    "pre_clean.info()"
   ]
  },
  {
   "cell_type": "markdown",
   "metadata": {},
   "source": [
    "#### `tweet_data`: 'id' variable should be labaled the same as for `twi_arch` table, 'tweet_id'"
   ]
  },
  {
   "cell_type": "markdown",
   "metadata": {},
   "source": [
    "##### Define\n",
    "Change 'id' to 'tweet_id'"
   ]
  },
  {
   "cell_type": "markdown",
   "metadata": {},
   "source": [
    "##### Code"
   ]
  },
  {
   "cell_type": "code",
   "execution_count": null,
   "metadata": {},
   "outputs": [],
   "source": [
    "tweet_clean.rename(columns={'id':'tweet_id'}, inplace=True)"
   ]
  },
  {
   "cell_type": "markdown",
   "metadata": {},
   "source": [
    "##### Test"
   ]
  },
  {
   "cell_type": "code",
   "execution_count": null,
   "metadata": {},
   "outputs": [],
   "source": [
    "tweet_clean.info()"
   ]
  },
  {
   "cell_type": "markdown",
   "metadata": {},
   "source": [
    "#### `tweet_data`: tweet_id is not integer type"
   ]
  },
  {
   "cell_type": "markdown",
   "metadata": {},
   "source": [
    "##### Define\n",
    "Change tweet_id to str type"
   ]
  },
  {
   "cell_type": "markdown",
   "metadata": {},
   "source": [
    "##### Code"
   ]
  },
  {
   "cell_type": "code",
   "execution_count": null,
   "metadata": {},
   "outputs": [],
   "source": [
    "tweet_clean.tweet_id = tweet_clean.tweet_id.astype(str)"
   ]
  },
  {
   "cell_type": "markdown",
   "metadata": {},
   "source": [
    "##### Test"
   ]
  },
  {
   "cell_type": "code",
   "execution_count": null,
   "metadata": {},
   "outputs": [],
   "source": [
    "tweet_clean.info()"
   ]
  },
  {
   "cell_type": "markdown",
   "metadata": {},
   "source": [
    "# Tidiness"
   ]
  },
  {
   "cell_type": "markdown",
   "metadata": {},
   "source": [
    "#### Drop the values for retweets and for replies. "
   ]
  },
  {
   "cell_type": "markdown",
   "metadata": {},
   "source": [
    "##### Define\n",
    "Drop theses columns by simply using the drop function in pandas"
   ]
  },
  {
   "cell_type": "markdown",
   "metadata": {},
   "source": [
    "##### Code"
   ]
  },
  {
   "cell_type": "code",
   "execution_count": null,
   "metadata": {},
   "outputs": [],
   "source": [
    "not_needed = ['in_reply_to_status_id', 'in_reply_to_user_id', 'retweeted_status_id', 'retweeted_status_user_id', 'retweeted_status_timestamp']\n",
    "twi_clean = twi_clean.drop(not_needed, axis=1)"
   ]
  },
  {
   "cell_type": "markdown",
   "metadata": {},
   "source": [
    "##### Test"
   ]
  },
  {
   "cell_type": "code",
   "execution_count": null,
   "metadata": {},
   "outputs": [],
   "source": [
    "list(twi_clean)"
   ]
  },
  {
   "cell_type": "markdown",
   "metadata": {},
   "source": [
    "#### One variable (dog_stage) in four columns in `twi_arch` table (doggo, floofer, pupper, and puppo)"
   ]
  },
  {
   "cell_type": "markdown",
   "metadata": {},
   "source": [
    "##### Define \n",
    "Combine these four columns to make one under the value \"dog_stage\""
   ]
  },
  {
   "cell_type": "markdown",
   "metadata": {},
   "source": [
    "##### Code"
   ]
  },
  {
   "cell_type": "code",
   "execution_count": null,
   "metadata": {},
   "outputs": [],
   "source": [
    "twi_clean['dog_stage'] = twi_clean[twi_clean.columns[8:12]].apply(lambda x: ''.join(x), axis=1).str.replace('None','')\n",
    "twi_clean['dog_stage'] = twi_clean.dog_stage.map(lambda x: nan if x == '' else x)\n",
    "\n",
    "twi_clean = twi_clean.drop(['doggo', 'floofer', 'pupper', 'puppo'], axis=1)"
   ]
  },
  {
   "cell_type": "code",
   "execution_count": null,
   "metadata": {},
   "outputs": [],
   "source": [
    "## There is a couple that is two stages of dog\n",
    "twi_clean['dog_stage'] = twi_clean.dog_stage.str.replace('doggopupper', 'doggo-pupper')\n",
    "twi_clean['dog_stage'] = twi_clean.dog_stage.str.replace('doggopuppo', 'doggo-puppo')\n",
    "twi_clean['dog_stage'] = twi_clean.dog_stage.str.replace('doggofloofer', 'doggo-floofer')"
   ]
  },
  {
   "cell_type": "markdown",
   "metadata": {},
   "source": [
    "##### Test"
   ]
  },
  {
   "cell_type": "code",
   "execution_count": null,
   "metadata": {},
   "outputs": [],
   "source": [
    "twi_clean.dog_stage.value_counts()"
   ]
  },
  {
   "cell_type": "markdown",
   "metadata": {},
   "source": [
    "#### There is no score_ratio value"
   ]
  },
  {
   "cell_type": "markdown",
   "metadata": {},
   "source": [
    "##### Define\n",
    "Obtain the ratio from the rating numerator and denominator"
   ]
  },
  {
   "cell_type": "markdown",
   "metadata": {},
   "source": [
    "##### Code"
   ]
  },
  {
   "cell_type": "code",
   "execution_count": null,
   "metadata": {},
   "outputs": [],
   "source": [
    "twi_clean['rating_ratio'] = twi_clean['rating_numerator'] / twi_clean['rating_denominator']"
   ]
  },
  {
   "cell_type": "markdown",
   "metadata": {},
   "source": [
    "##### Test"
   ]
  },
  {
   "cell_type": "code",
   "execution_count": null,
   "metadata": {},
   "outputs": [],
   "source": [
    "twi_clean.sample(5)"
   ]
  },
  {
   "cell_type": "markdown",
   "metadata": {},
   "source": [
    "#### number of images should be in the `predict` table, also delete tweets in `predict` not present in `twi_arch`"
   ]
  },
  {
   "cell_type": "markdown",
   "metadata": {},
   "source": [
    "##### Define\n",
    "Place the number of pictures in the `predict` table and drop it from the `twi_arch` table. Delete tweets not in `twi_arch`"
   ]
  },
  {
   "cell_type": "markdown",
   "metadata": {},
   "source": [
    "##### Code"
   ]
  },
  {
   "cell_type": "code",
   "execution_count": null,
   "metadata": {},
   "outputs": [],
   "source": [
    "pre_clean = pd.merge(pre_clean, twi_clean[['tweet_id','num_of_img']], on='tweet_id', how='inner')\n",
    "twi_clean = twi_clean.drop('num_of_img', axis=1)"
   ]
  },
  {
   "cell_type": "code",
   "execution_count": null,
   "metadata": {},
   "outputs": [],
   "source": [
    "# conver num_of_img back to int\n",
    "pre_clean['num_of_img'] = pre_clean.num_of_img.astype(int)"
   ]
  },
  {
   "cell_type": "code",
   "execution_count": null,
   "metadata": {},
   "outputs": [],
   "source": [
    "pre_clean.info()"
   ]
  },
  {
   "cell_type": "markdown",
   "metadata": {},
   "source": [
    "#### number of likes and retweet count should be in the `twi_arch` table "
   ]
  },
  {
   "cell_type": "markdown",
   "metadata": {},
   "source": [
    "##### Define\n",
    "merge the tables of `twi_clean` and `tweet_clean` to get retweet count and favorite count"
   ]
  },
  {
   "cell_type": "markdown",
   "metadata": {},
   "source": [
    "##### Code"
   ]
  },
  {
   "cell_type": "code",
   "execution_count": null,
   "metadata": {},
   "outputs": [],
   "source": [
    "twi_clean = pd.merge(twi_clean, tweet_clean, on='tweet_id', how='left')"
   ]
  },
  {
   "cell_type": "markdown",
   "metadata": {},
   "source": [
    "##### Test"
   ]
  },
  {
   "cell_type": "code",
   "execution_count": null,
   "metadata": {},
   "outputs": [],
   "source": [
    "twi_clean.info()"
   ]
  },
  {
   "cell_type": "markdown",
   "metadata": {},
   "source": [
    "#### Combine `predictions` tale and `twi_arch` table"
   ]
  },
  {
   "cell_type": "markdown",
   "metadata": {},
   "source": [
    "##### Define\n",
    "merge the tables of `twi_clean` and `tweet_clean` to get retweet count and favorite count"
   ]
  },
  {
   "cell_type": "markdown",
   "metadata": {},
   "source": [
    "##### Code"
   ]
  },
  {
   "cell_type": "code",
   "execution_count": null,
   "metadata": {},
   "outputs": [],
   "source": [
    "twi_clean = pd.merge(twi_clean, pre_clean, on='tweet_id', how='left')"
   ]
  },
  {
   "cell_type": "markdown",
   "metadata": {},
   "source": [
    "##### Test"
   ]
  },
  {
   "cell_type": "code",
   "execution_count": null,
   "metadata": {},
   "outputs": [],
   "source": [
    "list(twi_clean)"
   ]
  },
  {
   "cell_type": "markdown",
   "metadata": {},
   "source": [
    "# Save our Master Tables"
   ]
  },
  {
   "cell_type": "code",
   "execution_count": null,
   "metadata": {},
   "outputs": [],
   "source": [
    "# re-arange columns to look better\n",
    "twi_master = twi_clean[['tweet_id', 'timestamp', 'source', 'expanded_urls', 'text', 'name', 'dog_stage',\n",
    "                        'rating_numerator', 'rating_denominator', 'rating_ratio', 'retweet_count',\n",
    "                        'favorite_count', 'num_of_img', 'img_num', 'jpg_url', 'p1', 'p1_conf', 'p1_dog',\n",
    "                        'p2', 'p2_conf', 'p2_dog', 'p3', 'p3_conf', 'p3_dog']]"
   ]
  },
  {
   "cell_type": "code",
   "execution_count": null,
   "metadata": {},
   "outputs": [],
   "source": [
    "twi_master.to_csv('twitter_archive_master.csv', index=False)"
   ]
  },
  {
   "cell_type": "markdown",
   "metadata": {},
   "source": [
    "# Analyze"
   ]
  },
  {
   "cell_type": "code",
   "execution_count": null,
   "metadata": {},
   "outputs": [],
   "source": [
    "%matplotlib inline\n",
    "\n",
    "import matplotlib.pyplot as plt\n",
    "import numpy as np\n",
    "from scipy import stats"
   ]
  },
  {
   "cell_type": "code",
   "execution_count": null,
   "metadata": {},
   "outputs": [],
   "source": [
    "twi_master.info()"
   ]
  },
  {
   "cell_type": "code",
   "execution_count": null,
   "metadata": {},
   "outputs": [],
   "source": [
    "twi_master.describe()"
   ]
  },
  {
   "cell_type": "code",
   "execution_count": null,
   "metadata": {},
   "outputs": [],
   "source": [
    "twi_master.rating_ratio.value_counts()"
   ]
  },
  {
   "cell_type": "markdown",
   "metadata": {},
   "source": [
    "An insight comes from the rating for each tweet. Since a couple of tweets do not have a rating denominator of 10, either because there is more than one dog in the picture and 'WeRateDogs' added all the ratings together, I created a new variable to obtain the ratio between the rating numerator and the rating denominator. The rating ratio has a mean value of 1.05 and a median on 1.1, which means that on average more dogs obtain a higher rating numerator than denominator. This is common for the Twitter account 'WeRateDogs', since they usually give scores such as 11/10 or 13/10. "
   ]
  },
  {
   "cell_type": "code",
   "execution_count": null,
   "metadata": {},
   "outputs": [],
   "source": [
    "twi_master.p1_dog.value_counts()"
   ]
  },
  {
   "cell_type": "code",
   "execution_count": null,
   "metadata": {},
   "outputs": [],
   "source": [
    "1428 / (1428+489)"
   ]
  },
  {
   "cell_type": "markdown",
   "metadata": {},
   "source": [
    "The confidence percent for the number one prediction from a picture has a flat distribution, with a mean of 60% and a median of 60%. The histogram below shows the confidence percent for all three predictions. As we can see, the histogram for the number one prediction is pretty flat until we reach confidence levels of about 95% and more. From this histogram it is clear that the number one prediction is considerably more accurate than the other two predictions. Noting that from the number one prediction only 74% is actually a dog breed, I can think of two possibilities. Either the dog in the picture was wearing a costume or the dog simply looked like another thing."
   ]
  },
  {
   "cell_type": "code",
   "execution_count": null,
   "metadata": {},
   "outputs": [],
   "source": [
    "n, bins, patches = plt.hist(twi_master.p1_conf, 30, alpha=0.75, label='# 1')\n",
    "n, bins, patches = plt.hist(twi_master.p2_conf, 20, alpha=0.75, label='# 2')\n",
    "n, bins, patches = plt.hist(twi_master.p3_conf, 14, alpha=0.75, label='# 3')\n",
    "plt.legend(title='Prediction')\n",
    "plt.xlabel(\"Percent (%)\")\n",
    "plt.ylabel(\"Count\")\n",
    "\n",
    "# plt.savefig(\"p_conf_hist.pdf\")"
   ]
  },
  {
   "cell_type": "code",
   "execution_count": null,
   "metadata": {},
   "outputs": [],
   "source": [
    "count = list(twi_master.p1_dog.value_counts())\n",
    "x_pos = np.arange(2)\n",
    "x_labels = ['Dog Breed', 'Other']\n",
    "\n",
    "plt.bar(x_pos, count, align='center', alpha=0.5)\n",
    "plt.xticks(x_pos, x_labels)\n",
    "plt.title(\"Number 1 Image Prediction\")\n",
    "plt.ylabel(\"Count\")\n",
    "\n",
    "# plt.savefig(\"p1_dog_bar.pdf\")"
   ]
  },
  {
   "cell_type": "code",
   "execution_count": null,
   "metadata": {},
   "outputs": [],
   "source": [
    "plt.plot(twi_master.rating_ratio, twi_master.favorite_count, 'k.', alpha=1/20)\n",
    "plt.ylabel('Favorite Count')\n",
    "plt.xlabel('Rating Ratio')"
   ]
  },
  {
   "cell_type": "code",
   "execution_count": null,
   "metadata": {},
   "outputs": [],
   "source": [
    "plt.plot(twi_master.favorite_count, twi_master.retweet_count, 'b.', alpha=1/20)\n",
    "plt.xlim([-2000, 60000])\n",
    "plt.ylim([-1000, 17500])\n",
    "plt.xlabel('Favorite Count')\n",
    "plt.ylabel('Retweet Count')\n",
    "\n",
    "slope, intercept, r_value, p_value, std_err = stats.linregress(twi_master.favorite_count, twi_master.retweet_count)\n",
    "print(\"The correlation coefficient between favorite and retweet count is {:.2f}\".format(r_value))\n",
    "\n",
    "# plt.savefig(\"fav_ret.pdf\")"
   ]
  },
  {
   "cell_type": "markdown",
   "metadata": {},
   "source": [
    "Another insight I found while analyzing the data, was that the favorite count was very much correlated to the retweet count. Looking at the figure above, we can see that as the favorite count increases, the retweet count increases as well. It is also good to note that tweets, on average get more favorites than are being retweeted. These two variables have a positive correlation coefficient of 0.94."
   ]
  },
  {
   "cell_type": "code",
   "execution_count": null,
   "metadata": {},
   "outputs": [],
   "source": []
  }
 ],
 "metadata": {
  "kernelspec": {
   "display_name": "Python 3",
   "language": "python",
   "name": "python3"
  },
  "language_info": {
   "codemirror_mode": {
    "name": "ipython",
    "version": 3
   },
   "file_extension": ".py",
   "mimetype": "text/x-python",
   "name": "python",
   "nbconvert_exporter": "python",
   "pygments_lexer": "ipython3",
   "version": "3.6.3"
  }
 },
 "nbformat": 4,
 "nbformat_minor": 2
}
